{
  "cells": [
    {
      "cell_type": "markdown",
      "metadata": {
        "id": "7rvmOrIF2UAQ"
      },
      "source": [
        "<h3>measuring the best possible degree for polynomial regression</h3>"
      ]
    },
    {
      "cell_type": "code",
      "execution_count": 42,
      "metadata": {
        "id": "GfPyTSE02UAV"
      },
      "outputs": [],
      "source": [
        "import pandas as pd\n",
        "import yfinance as yf\n",
        "import numpy as np\n",
        "import matplotlib.pyplot as plt\n",
        "from sklearn.linear_model import LinearRegression\n",
        "from sklearn.preprocessing import PolynomialFeatures\n",
        "from sklearn.metrics import mean_squared_error\n",
        "from sklearn.model_selection import train_test_split"
      ]
    },
    {
      "cell_type": "code",
      "execution_count": 43,
      "metadata": {
        "id": "yRKHV-Rx2UAY"
      },
      "outputs": [],
      "source": [
        "# for fetching data\n",
        "def fetch_stock_data(ticker, start_date, end_date):\n",
        "    data = yf.download(ticker, start=start_date, end=end_date)\n",
        "    # the yf.download() function from the yfinance library fetches historical stock data from Yahoo Finance,\n",
        "    # but it does not download the data onto your machine as a file.\n",
        "    #  Instead, it retrieves the data from Yahoo Finance's servers and loads it into memory as a pandas DataFrame.\n",
        "    return data"
      ]
    },
    {
      "cell_type": "code",
      "execution_count": 44,
      "metadata": {
        "id": "TCiJStSq2UAZ"
      },
      "outputs": [],
      "source": [
        "# for data cleaning\n",
        "# Check for and handle missing values\n",
        "# Feature selection: Use only 'Close' price as the target variable\n",
        "def preprocess_data(data):\n",
        "    data.dropna(inplace=True)\n",
        "    data = data[['Close']]\n",
        "    return data"
      ]
    },
    {
      "cell_type": "code",
      "execution_count": 45,
      "metadata": {
        "id": "4svXNObD2UAa"
      },
      "outputs": [],
      "source": [
        "# spliting into testing and trainingdataset\n",
        "def split_data(data, test_size=0.2):\n",
        "    X = np.arange(len(data)).reshape(-1, 1)\n",
        "    y = data['Close'].values.reshape(-1, 1)\n",
        "\n",
        "    X_train, X_test, y_train, y_test = train_test_split(X, y, test_size=test_size, random_state=42)\n",
        "\n",
        "    return X_train, X_test, y_train, y_test\n"
      ]
    },
    {
      "cell_type": "code",
      "execution_count": 46,
      "metadata": {
        "id": "yqII2GC-2UAb"
      },
      "outputs": [],
      "source": [
        "# model training on cleaned data\n",
        "def plot_polynomial_regression(data, model, degree):\n",
        "    X = np.arange(len(data)).reshape(-1, 1)\n",
        "    y = data['Close'].values.reshape(-1, 1)\n",
        "\n",
        "    # Generate points along the polynomial curve for plotting\n",
        "    x_fit = np.linspace(0, len(data), 100).reshape(-1, 1)\n",
        "    polynomial_features = PolynomialFeatures(degree=degree)\n",
        "    x_fit_poly = polynomial_features.fit_transform(x_fit)\n",
        "\n",
        "    # Make predictions using the trained model\n",
        "    model = LinearRegression()\n",
        "    model.predict(x_fit_poly, y)\n",
        "\n",
        "    # Plotting the data points and the polynomial curve\n",
        "    plt.figure(figsize=(10, 6))\n",
        "    plt.scatter(X, y, label='Data', color='b', marker='o')\n",
        "    plt.plot(x_fit, y_fit, label=f'Degree {degree} Polynomial', color='r')\n",
        "    plt.xlabel('X')\n",
        "    plt.ylabel('Y')\n",
        "    plt.title('Polynomial Regression Analysis')\n",
        "    plt.legend()\n",
        "    plt.grid(True)\n",
        "    plt.show()\n"
      ]
    },
    {
      "cell_type": "code",
      "execution_count": 48,
      "metadata": {
        "id": "Tapzg6fS2UAb"
      },
      "outputs": [],
      "source": [
        "# training model for various degrees at max 10\n",
        "def find_best_degree(data, max_degree):\n",
        "    X_train, X_val, y_train, y_val = split_data(data)\n",
        "\n",
        "    best_degree = 1\n",
        "    best_mse = float('inf')\n",
        "\n",
        "    for degree in range(1, max_degree + 1):\n",
        "        model = plot_polynomial_regression(data, degree)\n",
        "        X_val_poly = PolynomialFeatures(degree=degree).fit_transform(X_val)\n",
        "        y_pred = model.predict(X_val_poly)\n",
        "        mse = mean_squared_error(y_val, y_pred)\n",
        "\n",
        "        if mse < best_mse:\n",
        "            best_mse = mse\n",
        "            best_degree = degree\n",
        "\n",
        "    return best_degree"
      ]
    },
    {
      "cell_type": "code",
      "execution_count": 50,
      "metadata": {
        "colab": {
          "base_uri": "https://localhost:8080/",
          "height": 373
        },
        "id": "Ks7Al9nN2UAc",
        "outputId": "0c98dcfe-2332-4885-e37d-fa86f26b4420"
      },
      "outputs": [
        {
          "output_type": "stream",
          "name": "stdout",
          "text": [
            "\r[*********************100%***********************]  1 of 1 completed\n"
          ]
        },
      ],
      "source": [
        "# basically the main function\n",
        "if __name__ == \"__main__\":\n",
        "    ticker = \"GOOGL\"\n",
        "    start_date_training = \"2017-01-01\"\n",
        "    end_date_training = \"2022-12-31\"\n",
        "    max_degree = 10\n",
        "\n",
        "    # Fetch historical stock data from Yahoo Finance for training\n",
        "    stock_data = fetch_stock_data(ticker, start_date_training, end_date_training)\n",
        "\n",
        "    # Preprocess the data\n",
        "    preprocessed_data = preprocess_data(stock_data)\n",
        "\n",
        "    # Find the best degree for polynomial regression\n",
        "    best_degree = find_best_degree(preprocessed_data, max_degree)\n",
        "    print(f\"Best degree for polynomial regression: {best_degree}\")\n",
        "\n",
        "    #Train model on best degree\n",
        "    plot_polynomial_regression(preprocessed_data, best_degree)"
      ]
    },
    {
      "cell_type": "code",
      "source": [],
      "metadata": {
        "id": "NjP0iZEn4lrx"
      },
      "execution_count": null,
      "outputs": []
    }
  ],
  "metadata": {
    "kernelspec": {
      "display_name": "Python 3",
      "language": "python",
      "name": "python3"
    },
    "language_info": {
      "codemirror_mode": {
        "name": "ipython",
        "version": 3
      },
      "file_extension": ".py",
      "mimetype": "text/x-python",
      "name": "python",
      "nbconvert_exporter": "python",
      "pygments_lexer": "ipython3",
      "version": "3.11.1"
    },
    "orig_nbformat": 4,
    "colab": {
      "provenance": []
    }
  },
  "nbformat": 4,
  "nbformat_minor": 0
}
