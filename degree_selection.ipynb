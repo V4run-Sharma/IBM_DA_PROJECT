{
 "cells": [
  {
   "cell_type": "markdown",
   "metadata": {},
   "source": [
    "<h3>measuring the best possible degree for polynomial regression</h3>"
   ]
  },
  {
   "cell_type": "code",
   "execution_count": 2,
   "metadata": {},
   "outputs": [],
   "source": [
    "import pandas as pd\n",
    "import yfinance as yf\n",
    "import numpy as np\n",
    "from sklearn.linear_model import LinearRegression\n",
    "from sklearn.preprocessing import PolynomialFeatures\n",
    "from sklearn.metrics import mean_squared_error\n",
    "from sklearn.model_selection import train_test_split"
   ]
  },
  {
   "cell_type": "code",
   "execution_count": 3,
   "metadata": {},
   "outputs": [],
   "source": [
    "# for fetching data\n",
    "def fetch_stock_data(ticker, start_date, end_date):\n",
    "    data = yf.download(ticker, start=start_date, end=end_date)\n",
    "    # the yf.download() function from the yfinance library fetches historical stock data from Yahoo Finance, \n",
    "    # but it does not download the data onto your machine as a file.\n",
    "    #  Instead, it retrieves the data from Yahoo Finance's servers and loads it into memory as a pandas DataFrame.\n",
    "    return data"
   ]
  },
  {
   "cell_type": "code",
   "execution_count": 4,
   "metadata": {},
   "outputs": [],
   "source": [
    "# for data cleaning\n",
    "# Check for and handle missing values\n",
    "# Feature selection: Use only 'Close' price as the target variable\n",
    "def preprocess_data(data):\n",
    "    data.dropna(inplace=True)\n",
    "    data = data[['Close']]\n",
    "    return data"
   ]
  },
  {
   "cell_type": "code",
   "execution_count": 5,
   "metadata": {},
   "outputs": [],
   "source": [
    "# spliting into testing and trainingdataset\n",
    "def split_data(data, test_size=0.2):\n",
    "    X = np.arange(len(data)).reshape(-1, 1)\n",
    "    y = data['Close'].values.reshape(-1, 1)\n",
    "\n",
    "    X_train, X_test, y_train, y_test = train_test_split(X, y, test_size=test_size, random_state=42)\n",
    "\n",
    "    return X_train, X_test, y_train, y_test"
   ]
  },
  {
   "cell_type": "code",
   "execution_count": 6,
   "metadata": {},
   "outputs": [],
   "source": [
    "# model training on cleaned data\n",
    "def train_polynomial_regression(data, degree):\n",
    "    X = np.arange(len(data)).reshape(-1, 1)\n",
    "    y = data['Close'].values.reshape(-1, 1)\n",
    "\n",
    "    polynomial_features = PolynomialFeatures(degree=degree)\n",
    "    X_poly = polynomial_features.fit_transform(X)\n",
    "\n",
    "    model = LinearRegression()\n",
    "    model.fit(X_poly, y)\n",
    "\n",
    "    return model"
   ]
  },
  {
   "cell_type": "code",
   "execution_count": 7,
   "metadata": {},
   "outputs": [],
   "source": [
    "# training model for various degrees at max 10\n",
    "def find_best_degree(data, max_degree):\n",
    "    X_train, X_val, y_train, y_val = split_data(data)\n",
    "\n",
    "    best_degree = 1\n",
    "    best_mse = float('inf')\n",
    "\n",
    "    for degree in range(1, max_degree + 1):\n",
    "        model = train_polynomial_regression(data, degree)\n",
    "        X_val_poly = PolynomialFeatures(degree=degree).fit_transform(X_val)\n",
    "        y_pred = model.predict(X_val_poly)\n",
    "        mse = mean_squared_error(y_val, y_pred)\n",
    "\n",
    "        if mse < best_mse:\n",
    "            best_mse = mse\n",
    "            best_degree = degree\n",
    "\n",
    "    return best_degree"
   ]
  },
  {
   "cell_type": "code",
   "execution_count": 8,
   "metadata": {},
   "outputs": [
    {
     "name": "stdout",
     "output_type": "stream",
     "text": [
      "[*********************100%***********************]  1 of 1 completed\n",
      "Best degree for polynomial regression: 8\n"
     ]
    }
   ],
   "source": [
    "# basically the main function\n",
    "if __name__ == \"__main__\":\n",
    "    ticker = \"GOOGL\"\n",
    "    start_date_training = \"2017-01-01\"\n",
    "    end_date_training = \"2022-12-31\"\n",
    "    max_degree = 10\n",
    "\n",
    "    # Fetch historical stock data from Yahoo Finance for training\n",
    "    stock_data = fetch_stock_data(ticker, start_date_training, end_date_training)\n",
    "\n",
    "    # Preprocess the data\n",
    "    preprocessed_data = preprocess_data(stock_data)\n",
    "\n",
    "    # Find the best degree for polynomial regression\n",
    "    best_degree = find_best_degree(preprocessed_data, max_degree)\n",
    "    print(f\"Best degree for polynomial regression: {best_degree}\")"
   ]
  }
 ],
 "metadata": {
  "kernelspec": {
   "display_name": "Python 3",
   "language": "python",
   "name": "python3"
  },
  "language_info": {
   "codemirror_mode": {
    "name": "ipython",
    "version": 3
   },
   "file_extension": ".py",
   "mimetype": "text/x-python",
   "name": "python",
   "nbconvert_exporter": "python",
   "pygments_lexer": "ipython3",
   "version": "3.10.4"
  },
  "orig_nbformat": 4
 },
 "nbformat": 4,
 "nbformat_minor": 2
}
